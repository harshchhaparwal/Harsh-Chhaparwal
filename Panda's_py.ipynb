{
  "nbformat": 4,
  "nbformat_minor": 0,
  "metadata": {
    "colab": {
      "provenance": [],
      "authorship_tag": "ABX9TyMFTMt0zGU/uzc+kY9UZhKL",
      "include_colab_link": true
    },
    "kernelspec": {
      "name": "python3",
      "display_name": "Python 3"
    },
    "language_info": {
      "name": "python"
    }
  },
  "cells": [
    {
      "cell_type": "markdown",
      "metadata": {
        "id": "view-in-github",
        "colab_type": "text"
      },
      "source": [
        "<a href=\"https://colab.research.google.com/github/harshchhaparwal/Harsh-Chhaparwal/blob/main/Panda's_py.ipynb\" target=\"_parent\"><img src=\"https://colab.research.google.com/assets/colab-badge.svg\" alt=\"Open In Colab\"/></a>"
      ]
    },
    {
      "cell_type": "code",
      "execution_count": null,
      "metadata": {
        "colab": {
          "base_uri": "https://localhost:8080/"
        },
        "id": "ItOhC_esA8K4",
        "outputId": "3d6f3e22-a88e-4228-e753-c8b7b422ff7d"
      },
      "outputs": [
        {
          "output_type": "stream",
          "name": "stdout",
          "text": [
            "    Name  Age  Salary\n",
            "0   John   25   30000\n",
            "1  Peter   28   45000\n",
            "2   Lisa   31   35000\n"
          ]
        }
      ],
      "source": [
        "#Creations of Data Frames\n",
        "import pandas as pd\n",
        "data = {\"Name\": [\"John\",\"Peter\",\"Lisa\"],\"Age\": [25,28,31],\"Salary\": [30000,45000,35000]}\n",
        "df = pd.DataFrame(data)\n",
        "print(df)"
      ]
    },
    {
      "cell_type": "code",
      "source": [
        "#Exploring Data in Pandas\n",
        "import pandas as pd\n",
        "data=pd.read_excel(\"(#file name)excel_data.xlsx\")\n",
        "print(data)"
      ],
      "metadata": {
        "colab": {
          "base_uri": "https://localhost:8080/",
          "height": 335
        },
        "id": "I-yrdQRGETts",
        "outputId": "cdf26aad-d694-43a2-a058-d7554d43dd81"
      },
      "execution_count": null,
      "outputs": [
        {
          "output_type": "error",
          "ename": "FileNotFoundError",
          "evalue": "[Errno 2] No such file or directory: 'excel_data.xlsx'",
          "traceback": [
            "\u001b[0;31m---------------------------------------------------------------------------\u001b[0m",
            "\u001b[0;31mFileNotFoundError\u001b[0m                         Traceback (most recent call last)",
            "\u001b[0;32m/tmp/ipython-input-3-3516342984.py\u001b[0m in \u001b[0;36m<cell line: 0>\u001b[0;34m()\u001b[0m\n\u001b[1;32m      1\u001b[0m \u001b[0;32mimport\u001b[0m \u001b[0mpandas\u001b[0m \u001b[0;32mas\u001b[0m \u001b[0mpd\u001b[0m\u001b[0;34m\u001b[0m\u001b[0;34m\u001b[0m\u001b[0m\n\u001b[0;32m----> 2\u001b[0;31m \u001b[0mdata\u001b[0m\u001b[0;34m=\u001b[0m\u001b[0mpd\u001b[0m\u001b[0;34m.\u001b[0m\u001b[0mread_excel\u001b[0m\u001b[0;34m(\u001b[0m\u001b[0;34m\"excel_data.xlsx\"\u001b[0m\u001b[0;34m)\u001b[0m\u001b[0;34m\u001b[0m\u001b[0;34m\u001b[0m\u001b[0m\n\u001b[0m\u001b[1;32m      3\u001b[0m \u001b[0mprint\u001b[0m\u001b[0;34m(\u001b[0m\u001b[0mdata\u001b[0m\u001b[0;34m)\u001b[0m\u001b[0;34m\u001b[0m\u001b[0;34m\u001b[0m\u001b[0m\n",
            "\u001b[0;32m/usr/local/lib/python3.11/dist-packages/pandas/io/excel/_base.py\u001b[0m in \u001b[0;36mread_excel\u001b[0;34m(io, sheet_name, header, names, index_col, usecols, dtype, engine, converters, true_values, false_values, skiprows, nrows, na_values, keep_default_na, na_filter, verbose, parse_dates, date_parser, date_format, thousands, decimal, comment, skipfooter, storage_options, dtype_backend, engine_kwargs)\u001b[0m\n\u001b[1;32m    493\u001b[0m     \u001b[0;32mif\u001b[0m \u001b[0;32mnot\u001b[0m \u001b[0misinstance\u001b[0m\u001b[0;34m(\u001b[0m\u001b[0mio\u001b[0m\u001b[0;34m,\u001b[0m \u001b[0mExcelFile\u001b[0m\u001b[0;34m)\u001b[0m\u001b[0;34m:\u001b[0m\u001b[0;34m\u001b[0m\u001b[0;34m\u001b[0m\u001b[0m\n\u001b[1;32m    494\u001b[0m         \u001b[0mshould_close\u001b[0m \u001b[0;34m=\u001b[0m \u001b[0;32mTrue\u001b[0m\u001b[0;34m\u001b[0m\u001b[0;34m\u001b[0m\u001b[0m\n\u001b[0;32m--> 495\u001b[0;31m         io = ExcelFile(\n\u001b[0m\u001b[1;32m    496\u001b[0m             \u001b[0mio\u001b[0m\u001b[0;34m,\u001b[0m\u001b[0;34m\u001b[0m\u001b[0;34m\u001b[0m\u001b[0m\n\u001b[1;32m    497\u001b[0m             \u001b[0mstorage_options\u001b[0m\u001b[0;34m=\u001b[0m\u001b[0mstorage_options\u001b[0m\u001b[0;34m,\u001b[0m\u001b[0;34m\u001b[0m\u001b[0;34m\u001b[0m\u001b[0m\n",
            "\u001b[0;32m/usr/local/lib/python3.11/dist-packages/pandas/io/excel/_base.py\u001b[0m in \u001b[0;36m__init__\u001b[0;34m(self, path_or_buffer, engine, storage_options, engine_kwargs)\u001b[0m\n\u001b[1;32m   1548\u001b[0m                 \u001b[0mext\u001b[0m \u001b[0;34m=\u001b[0m \u001b[0;34m\"xls\"\u001b[0m\u001b[0;34m\u001b[0m\u001b[0;34m\u001b[0m\u001b[0m\n\u001b[1;32m   1549\u001b[0m             \u001b[0;32melse\u001b[0m\u001b[0;34m:\u001b[0m\u001b[0;34m\u001b[0m\u001b[0;34m\u001b[0m\u001b[0m\n\u001b[0;32m-> 1550\u001b[0;31m                 ext = inspect_excel_format(\n\u001b[0m\u001b[1;32m   1551\u001b[0m                     \u001b[0mcontent_or_path\u001b[0m\u001b[0;34m=\u001b[0m\u001b[0mpath_or_buffer\u001b[0m\u001b[0;34m,\u001b[0m \u001b[0mstorage_options\u001b[0m\u001b[0;34m=\u001b[0m\u001b[0mstorage_options\u001b[0m\u001b[0;34m\u001b[0m\u001b[0;34m\u001b[0m\u001b[0m\n\u001b[1;32m   1552\u001b[0m                 )\n",
            "\u001b[0;32m/usr/local/lib/python3.11/dist-packages/pandas/io/excel/_base.py\u001b[0m in \u001b[0;36minspect_excel_format\u001b[0;34m(content_or_path, storage_options)\u001b[0m\n\u001b[1;32m   1400\u001b[0m         \u001b[0mcontent_or_path\u001b[0m \u001b[0;34m=\u001b[0m \u001b[0mBytesIO\u001b[0m\u001b[0;34m(\u001b[0m\u001b[0mcontent_or_path\u001b[0m\u001b[0;34m)\u001b[0m\u001b[0;34m\u001b[0m\u001b[0;34m\u001b[0m\u001b[0m\n\u001b[1;32m   1401\u001b[0m \u001b[0;34m\u001b[0m\u001b[0m\n\u001b[0;32m-> 1402\u001b[0;31m     with get_handle(\n\u001b[0m\u001b[1;32m   1403\u001b[0m         \u001b[0mcontent_or_path\u001b[0m\u001b[0;34m,\u001b[0m \u001b[0;34m\"rb\"\u001b[0m\u001b[0;34m,\u001b[0m \u001b[0mstorage_options\u001b[0m\u001b[0;34m=\u001b[0m\u001b[0mstorage_options\u001b[0m\u001b[0;34m,\u001b[0m \u001b[0mis_text\u001b[0m\u001b[0;34m=\u001b[0m\u001b[0;32mFalse\u001b[0m\u001b[0;34m\u001b[0m\u001b[0;34m\u001b[0m\u001b[0m\n\u001b[1;32m   1404\u001b[0m     ) as handle:\n",
            "\u001b[0;32m/usr/local/lib/python3.11/dist-packages/pandas/io/common.py\u001b[0m in \u001b[0;36mget_handle\u001b[0;34m(path_or_buf, mode, encoding, compression, memory_map, is_text, errors, storage_options)\u001b[0m\n\u001b[1;32m    880\u001b[0m         \u001b[0;32melse\u001b[0m\u001b[0;34m:\u001b[0m\u001b[0;34m\u001b[0m\u001b[0;34m\u001b[0m\u001b[0m\n\u001b[1;32m    881\u001b[0m             \u001b[0;31m# Binary mode\u001b[0m\u001b[0;34m\u001b[0m\u001b[0;34m\u001b[0m\u001b[0m\n\u001b[0;32m--> 882\u001b[0;31m             \u001b[0mhandle\u001b[0m \u001b[0;34m=\u001b[0m \u001b[0mopen\u001b[0m\u001b[0;34m(\u001b[0m\u001b[0mhandle\u001b[0m\u001b[0;34m,\u001b[0m \u001b[0mioargs\u001b[0m\u001b[0;34m.\u001b[0m\u001b[0mmode\u001b[0m\u001b[0;34m)\u001b[0m\u001b[0;34m\u001b[0m\u001b[0;34m\u001b[0m\u001b[0m\n\u001b[0m\u001b[1;32m    883\u001b[0m         \u001b[0mhandles\u001b[0m\u001b[0;34m.\u001b[0m\u001b[0mappend\u001b[0m\u001b[0;34m(\u001b[0m\u001b[0mhandle\u001b[0m\u001b[0;34m)\u001b[0m\u001b[0;34m\u001b[0m\u001b[0;34m\u001b[0m\u001b[0m\n\u001b[1;32m    884\u001b[0m \u001b[0;34m\u001b[0m\u001b[0m\n",
            "\u001b[0;31mFileNotFoundError\u001b[0m: [Errno 2] No such file or directory: 'excel_data.xlsx'"
          ]
        }
      ]
    },
    {
      "cell_type": "code",
      "source": [
        "#Handling Duplicate Data\n",
        "data = pd.read_excel(\"(#file name)excel_data.xlsx\")\n",
        "data.drop_duplicates(inplace=True)\n",
        "print(data)"
      ],
      "metadata": {
        "id": "-9tgu6jGETwG"
      },
      "execution_count": null,
      "outputs": []
    },
    {
      "cell_type": "code",
      "source": [
        "#Working with missing data in Pandas\n",
        "data = pd.read_csv(\"(#file name)csv_data.csv\")\n",
        "data.dropna(inplace=True)\n",
        "print(data.isnull().sum())\n",
        "print(data)"
      ],
      "metadata": {
        "id": "v5k_eHmmET0a"
      },
      "execution_count": null,
      "outputs": []
    },
    {
      "cell_type": "code",
      "source": [
        "#Column Transformation in Pandas(Part-1)\n",
        "data = pd.read_excel(\"(#file name)excel_data.xlsx\")\n",
        "print(data)\n",
        "df.loc[(df[\"Bonus %\"]==0),\"Get Bonus\"]=\"No Bonus\"\n",
        "df.loc[(df[\"Bonus %\"]>0),\"Get Bonus\"]=\"Bonus\"\n",
        "print(df.head(10))"
      ],
      "metadata": {
        "id": "bL6ie4YqET2h"
      },
      "execution_count": null,
      "outputs": []
    },
    {
      "cell_type": "code",
      "source": [
        "#Column Transformation in Pandas(Part-2)\n",
        "data = pd.read_excel(\"(#file name)excel_data.xlsx\")\n",
        "print(data)\n",
        "data[\"Bonus\"]=(data[\"Salary\"]/100)*20\n",
        "print(data)\n",
        "data={\"Months\":[\"January\",\"February\",\"March\"]}\n",
        "a=pd.DataFrame(data)\n",
        "print(a)\n",
        "def extract(value):\n",
        "  return value[0:3]\n",
        "a[\"Short_Months\"]=a[\"Months\"].map(extract)\n",
        "print(a)"
      ],
      "metadata": {
        "colab": {
          "base_uri": "https://localhost:8080/",
          "height": 110
        },
        "id": "ugDnf0TuET4_",
        "outputId": "3f5a1594-f953-4ca8-901d-da12126d26f5"
      },
      "execution_count": null,
      "outputs": [
        {
          "output_type": "error",
          "ename": "IndentationError",
          "evalue": "expected an indented block after function definition on line 9 (ipython-input-4-1663191664.py, line 10)",
          "traceback": [
            "\u001b[0;36m  File \u001b[0;32m\"/tmp/ipython-input-4-1663191664.py\"\u001b[0;36m, line \u001b[0;32m10\u001b[0m\n\u001b[0;31m    df.loc[(df[\"Bonus %\"]==0),\"Get Bonus\"]=\"No Bonus\"\u001b[0m\n\u001b[0m    ^\u001b[0m\n\u001b[0;31mIndentationError\u001b[0m\u001b[0;31m:\u001b[0m expected an indented block after function definition on line 9\n"
          ]
        }
      ]
    },
    {
      "cell_type": "code",
      "source": [
        "#Group BY in Pandas\n",
        "data = pd.read_excel(\"(#file name)excel_data.xlsx\")\n",
        "print(data.head(10))\n",
        "print(data.groupby(\"Department\").agg({\"Gender:\",\"Count:\"}))\n",
        "print(gp)"
      ],
      "metadata": {
        "id": "OfmvO4eOSo1L"
      },
      "execution_count": null,
      "outputs": []
    },
    {
      "cell_type": "code",
      "source": [
        "#Merge, Join and Concatenate in Pandas\n",
        "data1={\"Emp ID\":[\"E101\",\"E102\",\"E103\",\"E104\",\"E105\",\"E106\"],\"Names\":[\"Ram\",\"Shyam\",\"Rahul\",\"Vishal\",\"Ravi\"],\"Age\":[34,56,23,44,32]}\n",
        "data2={\"Emp ID\":[\"E101\",\"E102\",\"E103\",\"E104\",\"E105\",\"E106\"],\"Salary\":[45000,56000,34000,30000,50000]}\n",
        "df1=pd.DataFrame(data1)\n",
        "df2=pd.DataFrame(data2)\n",
        "print(df1)\n",
        "print()\n",
        "print(df2)\n",
        "print(pd.merge(left=df1,right=df2,on=\"Emp Id\",how=\"right\"))\n",
        "print(pd.join(df1,df2))\n",
        "print(pd.concat([df1,df2]))"
      ],
      "metadata": {
        "id": "hTRpHf72So3K"
      },
      "execution_count": null,
      "outputs": []
    },
    {
      "cell_type": "code",
      "source": [
        "#Pandas compare DataFrames\n",
        "dict={\"Fruits\":[\"Mango\",\"Apples\",\"Banana\",\"Papaya\"],\"Price\":[100,150,50,35],\"Quantity\":[15,10,10,3]}\n",
        "df=pd.DataFrame(dict)\n",
        "print(df1)\n",
        "df2=df1.copy()\n",
        "print(df2)\n",
        "df2.loc[0,\"Price\"]=120\n",
        "df2.loc[1,\"Price\"]=175\n",
        "df2.loc[3,\"Price\"]=30\n",
        "df2.loc[0,\"Quantity\"]=12\n",
        "df2.loc[1,\"Quantity\"]=15\n",
        "df2.loc[3,\"Quantity\"]=5\n",
        "print(df2)\n",
        "print(df1.compare(df2,align_axis=0))\n"
      ],
      "metadata": {
        "id": "PlljiF2FSo5N"
      },
      "execution_count": null,
      "outputs": []
    }
  ]
}